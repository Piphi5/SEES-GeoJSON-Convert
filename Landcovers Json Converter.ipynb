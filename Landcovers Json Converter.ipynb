{
 "cells": [
  {
   "cell_type": "code",
   "execution_count": 49,
   "metadata": {},
   "outputs": [],
   "source": [
    "# YYYY - MM - DD\n",
    "start_date = \"2020-06-01\"\n",
    "end_date = \"2020-07-15\"\n",
    "\n",
    "user_id = \"\" # leave blank if you want all records\n",
    "\n",
    "protocol_num = 1 # 1 for mosquito, 2 for land cover, 3 for trees, 4 for cloud\n",
    "\n",
    "download_pictures = False"
   ]
  },
  {
   "cell_type": "code",
   "execution_count": 50,
   "metadata": {},
   "outputs": [],
   "source": [
    "import requests\n",
    "import json\n",
    "\n",
    "protocols = {1 : \"mosquito_habitat_mapper\", 2 : \"land_covers\", 3 : \"tree_heights\", 4 : \"sky_conditions\"}\n",
    "protocol = protocols[protocol_num]\n",
    "if user_id:\n",
    "    url = f\"https://api.globe.gov/search/v1/measurement/protocol/measureddate/userid/?protocols={protocol}&startdate={start_date}&enddate={end_date}&userid={user_id}&geojson=TRUE&sample=FALSE\"\n",
    "else:\n",
    "    url = f\"https://api.globe.gov/search/v1/measurement/protocol/measureddate/?protocols={protocol}&startdate={start_date}&enddate={end_date}&geojson=TRUE&sample=FALSE\"\n",
    "response = requests.get(url)\n",
    "data = response.json()\n",
    "protocol_name = protocol.replace('_', '')\n",
    "\n",
    "data[\"features\"] = [\n",
    "    feature for feature in data[\"features\"] if feature[\"properties\"][f\"{protocol_name}DataSource\"] == \"GLOBE Observer App\" \n",
    "]\n",
    "\n",
    "for feature in data[\"features\"]:\n",
    "    \n",
    "    try:\n",
    "        \n",
    "        feature[\"geometry\"][\"coordinates\"][0] = feature[\"properties\"][f\"{protocol_name}MeasurementLongitude\"]\n",
    "        feature[\"geometry\"][\"coordinates\"][1] = feature[\"properties\"][f\"{protocol_name}MeasurementLatitude\"]\n",
    "    except KeyError:\n",
    "        print(\"skipping\") # some entries don't have measured at values\n",
    "\n",
    "# write to file\n",
    "with open(f'{protocol}-{user_id}_measuredAt.json', 'w') as fp:\n",
    "    json.dump(data, fp)"
   ]
  },
  {
   "cell_type": "code",
   "execution_count": 51,
   "metadata": {},
   "outputs": [],
   "source": [
    "import os\n",
    "\n",
    "def get_picture(picture_url, file_name):\n",
    "    downloaded_obj = requests.get(picture_url, allow_redirects=True)\n",
    "    parent_dir = os.path.join(\"downloaded_images\", file_name)\n",
    "    with open(parent_dir, \"wb\") as file:\n",
    "        file.write(downloaded_obj.content)\n",
    "def download_picture(picture_url):\n",
    "    if \"https://\" in url:\n",
    "        photo_id = re.search(r'(?<=\\d\\d\\d\\d\\/\\d\\d\\/\\d\\d\\/).*(?=\\/)', url).group(0)\n",
    "        file_name = f\"{name}-{photo_id}-{protocol_name}.jpg\".replace(\":\",\"-\")\n",
    "        get_picture(url, file_name)\n",
    "    "
   ]
  },
  {
   "cell_type": "code",
   "execution_count": 52,
   "metadata": {},
   "outputs": [],
   "source": [
    "import re\n",
    "directions = [\"DownwardPhotoUrl\", \"EastPhotoUrl\", \"NorthPhotoUrl\", \"SouthPhotoUrl\", \"WestPhotoUrl\", \"UpwardPhotoUrl\"]\n",
    "\n",
    "sort_user = True\n",
    "for feature in [data[\"features\"][0]]:\n",
    "    name = f\"{feature['properties'][f'{protocol_name}MeasuredAt']}\"\n",
    "    if sort_user:\n",
    "        name = f\"{feature['properties'][f'{protocol_name}Userid']}-{name}\"\n",
    "    else:\n",
    "        name = f\"{feature['properties']['siteName']}-{name}\"\n",
    "    \n",
    "    if protocol_num == 2 or protocol_num == 4:\n",
    "        for direction in directions:\n",
    "            url = feature[\"properties\"][f\"{protocol_name}{direction}\"]\n",
    "            download_picture(url)\n",
    "    else:\n",
    "        if protocol_num == 1:\n",
    "            urls = feature[\"properties\"][f\"{protocol_name}WaterSourcePhotoUrls\"]\n",
    "        else:\n",
    "            urls = feature[\"properties\"][f\"{protocol_name}TreePhotoUrls\"]\n",
    "        urls = urls.split(\";\")\n",
    "        for url in urls:\n",
    "            download_picture(url)\n",
    "            \n",
    "            \n",
    "    \n",
    "        "
   ]
  },
  {
   "cell_type": "code",
   "execution_count": 54,
   "metadata": {},
   "outputs": [
    {
     "data": {
      "text/plain": [
       "'C:\\\\Users\\\\piphi\\\\Documents\\\\SEES GeoJSON Converter\\\\downloaded_pictures.zip'"
      ]
     },
     "execution_count": 54,
     "metadata": {},
     "output_type": "execute_result"
    }
   ],
   "source": [
    "import shutil\n",
    "\n",
    "shutil.make_archive(\"downloaded_pictures\", \"zip\", \"downloaded_images\")\n",
    "shutil.rmtree(\"downloaded_images\")\n",
    "os.mkdir(\"downloaded_images\")\n"
   ]
  }
 ],
 "metadata": {
  "kernelspec": {
   "display_name": "Python 3",
   "language": "python",
   "name": "python3"
  },
  "language_info": {
   "codemirror_mode": {
    "name": "ipython",
    "version": 3
   },
   "file_extension": ".py",
   "mimetype": "text/x-python",
   "name": "python",
   "nbconvert_exporter": "python",
   "pygments_lexer": "ipython3",
   "version": "3.7.6"
  }
 },
 "nbformat": 4,
 "nbformat_minor": 4
}
