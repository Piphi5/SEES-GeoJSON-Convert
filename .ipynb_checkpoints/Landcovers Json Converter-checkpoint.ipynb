{
 "cells": [
  {
   "cell_type": "code",
   "execution_count": 17,
   "metadata": {},
   "outputs": [],
   "source": [
    "import requests\n",
    "import json\n",
    "\n",
    "url = \"https://api.globe.gov/search/v1/measurement/protocol/measureddate/userid/?protocols=land_covers&startdate=2020-06-01&enddate=2020-07-15&userid=66638672&geojson=TRUE&sample=FALSE\"\n",
    "\n",
    "response_land_cover = requests.get(url)\n",
    "land_data = response_land_cover.json()\n"
   ]
  },
  {
   "cell_type": "code",
   "execution_count": 18,
   "metadata": {},
   "outputs": [],
   "source": [
    "for feature in land_data[\"features\"]:\n",
    "    try:\n",
    "        feature[\"geometry\"][\"coordinates\"][1] = feature[\"properties\"][\"landcoversMeasurementLatitude\"]\n",
    "        feature[\"geometry\"][\"coordinates\"][0] = feature[\"properties\"][\"landcoversMeasurementLongitude\"]\n",
    "    except KeyError:\n",
    "        print(\"skipping\") # some entries don't have measured at values\n"
   ]
  },
  {
   "cell_type": "code",
   "execution_count": 19,
   "metadata": {},
   "outputs": [],
   "source": [
    "with open('_measuredAt.json', 'w') as fp:\n",
    "    json.dump(land_data, fp)"
   ]
  }
 ],
 "metadata": {
  "kernelspec": {
   "display_name": "Python 3",
   "language": "python",
   "name": "python3"
  },
  "language_info": {
   "codemirror_mode": {
    "name": "ipython",
    "version": 3
   },
   "file_extension": ".py",
   "mimetype": "text/x-python",
   "name": "python",
   "nbconvert_exporter": "python",
   "pygments_lexer": "ipython3",
   "version": "3.7.6"
  }
 },
 "nbformat": 4,
 "nbformat_minor": 4
}
