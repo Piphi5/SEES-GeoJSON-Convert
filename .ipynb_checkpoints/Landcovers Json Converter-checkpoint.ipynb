{
 "cells": [
  {
   "cell_type": "code",
   "execution_count": 16,
   "metadata": {},
   "outputs": [],
   "source": [
    "# YYYY - MM - DD\n",
    "start_date = \"2020-06-01\"\n",
    "end_date = \"2020-07-15\"\n",
    "\n",
    "user_id = \"\" # leave blank if you want all records\n",
    "\n",
    "protocol_num = 1 # 1 for mosquito, 2 for land cover, 3 for trees, 4 for cloud"
   ]
  },
  {
   "cell_type": "code",
   "execution_count": 17,
   "metadata": {},
   "outputs": [],
   "source": [
    "import requests\n",
    "import json\n",
    "\n",
    "protocols = {1 : \"mosquito_habitat_mapper\", 2 : \"land_covers\", 3 : \"tree_heights\", 4 : \"sky_conditions\"}\n",
    "protocol = protocols[protocol_num]\n",
    "if user_id:\n",
    "    url = f\"https://api.globe.gov/search/v1/measurement/protocol/measureddate/userid/?protocols={protocol}&startdate={start_date}&enddate={end_date}&userid={user_id}&geojson=TRUE&sample=FALSE\"\n",
    "else:\n",
    "    url = f\"https://api.globe.gov/search/v1/measurement/protocol/measureddate/?protocols={protocol}&startdate={start_date}&enddate={end_date}&geojson=TRUE&sample=FALSE\"\n",
    "response = requests.get(url)\n",
    "data = response.json()\n",
    "\n",
    "\n",
    "for feature in data[\"features\"]:\n",
    "    \n",
    "    try:\n",
    "        \n",
    "        feature[\"geometry\"][\"coordinates\"][0] = feature[\"properties\"][f\"{protocol.replace('_', '')}MeasurementLongitude\"]\n",
    "        feature[\"geometry\"][\"coordinates\"][1] = feature[\"properties\"][f\"{protocol.replace('_', '')}MeasurementLatitude\"]\n",
    "    except KeyError:\n",
    "        print(\"skipping\") # some entries don't have measured at values\n",
    "\n",
    "# write to file\n",
    "with open(f'{protocol}-{user_id}_measuredAt.json', 'w') as fp:\n",
    "    json.dump(data, fp)"
   ]
  }
 ],
 "metadata": {
  "kernelspec": {
   "display_name": "Python 3",
   "language": "python",
   "name": "python3"
  },
  "language_info": {
   "codemirror_mode": {
    "name": "ipython",
    "version": 3
   },
   "file_extension": ".py",
   "mimetype": "text/x-python",
   "name": "python",
   "nbconvert_exporter": "python",
   "pygments_lexer": "ipython3",
   "version": "3.7.6"
  }
 },
 "nbformat": 4,
 "nbformat_minor": 4
}
