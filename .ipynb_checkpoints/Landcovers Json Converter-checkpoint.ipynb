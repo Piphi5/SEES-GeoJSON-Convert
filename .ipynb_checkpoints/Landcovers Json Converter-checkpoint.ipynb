{
 "cells": [
  {
   "cell_type": "code",
   "execution_count": 3,
   "metadata": {},
   "outputs": [],
   "source": [
    "# YYYY - MM - DD\n",
    "start_date = \"2020-06-01\"\n",
    "end_date = \"2020-07-15\"\n",
    "\n",
    "user_id = \"66638672\" # leave blank if you want all records\n",
    "\n",
    "protocol = \"mosquito_habitat_mapper\" # \"mosquito_habitat_mapper\" or \"land_covers\""
   ]
  },
  {
   "cell_type": "code",
   "execution_count": 4,
   "metadata": {},
   "outputs": [],
   "source": [
    "import requests\n",
    "import json\n",
    "if user_id:\n",
    "    url = f\"https://api.globe.gov/search/v1/measurement/protocol/measureddate/userid/?protocols={protocol}&startdate={start_date}&enddate={end_date}&userid={user_id}&geojson=TRUE&sample=FALSE\"\n",
    "else:\n",
    "    url = f\"https://api.globe.gov/search/v1/measurement/protocol/measureddate/?protocols={protocol}&startdate={start_date}&enddate={end_date}&geojson=TRUE&sample=FALSE\"\n",
    "response = requests.get(url)\n",
    "data = response.json()\n",
    "\n",
    "\n",
    "for feature in data[\"features\"]:\n",
    "    \n",
    "    try:\n",
    "        if protocol == \"land_covers\":\n",
    "            feature[\"geometry\"][\"coordinates\"][0] = feature[\"properties\"][\"landcoversMeasurementLongitude\"]\n",
    "            feature[\"geometry\"][\"coordinates\"][1] = feature[\"properties\"][\"landcoversMeasurementLatitude\"]\n",
    "        else:\n",
    "            feature[\"geometry\"][\"coordinates\"][0] = feature[\"properties\"][\"mosquitohabitatmapperMeasurementLongitude\"]\n",
    "            feature[\"geometry\"][\"coordinates\"][1] = feature[\"properties\"][\"mosquitohabitatmapperMeasurementLatitude\"]\n",
    "    except KeyError:\n",
    "        print(\"skipping\") # some entries don't have measured at values\n",
    "\n",
    "# write to file\n",
    "with open(f'{protocol}-{user_id}_measuredAt.json', 'w') as fp:\n",
    "    json.dump(data, fp)"
   ]
  }
 ],
 "metadata": {
  "kernelspec": {
   "display_name": "Python 3",
   "language": "python",
   "name": "python3"
  },
  "language_info": {
   "codemirror_mode": {
    "name": "ipython",
    "version": 3
   },
   "file_extension": ".py",
   "mimetype": "text/x-python",
   "name": "python",
   "nbconvert_exporter": "python",
   "pygments_lexer": "ipython3",
   "version": "3.7.6"
  }
 },
 "nbformat": 4,
 "nbformat_minor": 4
}
